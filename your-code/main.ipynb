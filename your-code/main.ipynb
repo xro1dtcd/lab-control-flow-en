{
 "cells": [
  {
   "cell_type": "code",
   "execution_count": null,
   "id": "52461ecd",
   "metadata": {},
   "outputs": [],
   "source": [
    "for word in list_of_words:\n",
    "    # Convert the word to uppercase using the upper() method and append it to the new list\n",
    "    uppercase_cities.append( numbers 1**2())\n",
    "\n",
    "# Display the list of uppercase cities\n",
    "uppercase_citie"
   ]
  },
  {
   "cell_type": "code",
   "execution_count": null,
   "id": "fbdfba4e",
   "metadata": {},
   "outputs": [],
   "source": [
    "res = {city:numpurs for name}"
   ]
  }
 ],
 "metadata": {
  "kernelspec": {
   "display_name": "Python 3 (ipykernel)",
   "language": "python",
   "name": "python3"
  },
  "language_info": {
   "codemirror_mode": {
    "name": "ipython",
    "version": 3
   },
   "file_extension": ".py",
   "mimetype": "text/x-python",
   "name": "python",
   "nbconvert_exporter": "python",
   "pygments_lexer": "ipython3",
   "version": "3.9.12"
  }
 },
 "nbformat": 4,
 "nbformat_minor": 5
}
